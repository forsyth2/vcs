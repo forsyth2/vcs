{
 "cells": [
  {
   "cell_type": "code",
   "execution_count": null,
   "metadata": {
    "vcdat_imports": "saved"
   },
   "outputs": [],
   "source": [
    "#These imports are added for vcdat.\n",
    "import numpy"
   ]
  },
  {
   "cell_type": "code",
   "execution_count": null,
   "metadata": {
    "vcdat_canvases": "saved"
   },
   "outputs": [],
   "source": [
    "#Create canvas\n",
    "canvas = vcs.init(display_target='off')"
   ]
  },
  {
   "cell_type": "code",
   "execution_count": null,
   "metadata": {},
   "outputs": [],
   "source": [
    "canvas._display_target = 'off'\n",
    "canvas.clear()\n",
    "canvas.plot(s, \"default\", \"boxfill\")"
   ]
  },
  {
   "cell_type": "code",
   "execution_count": null,
   "metadata": {},
   "outputs": [],
   "source": [
    "a_lambert_isoline = vcs.getisoline('a_lambert_isoline')"
   ]
  },
  {
   "cell_type": "code",
   "execution_count": null,
   "metadata": {},
   "outputs": [],
   "source": [
    "a_isoline = vcs.getisoline('a_isoline')"
   ]
  },
  {
   "cell_type": "code",
   "execution_count": null,
   "metadata": {},
   "outputs": [],
   "source": [
    "canvas.plot(s, \"default\", a_isoline)"
   ]
  },
  {
   "cell_type": "code",
   "execution_count": null,
   "metadata": {},
   "outputs": [],
   "source": [
    "import vcs\n",
    "import cdms2\n",
    "vcs.download_sample_data_files()\n",
    "f=cdms2.open(vcs.sample_data+\"/clt.nc\")\n",
    "s=f(\"clt\")\n",
    "x=vcs.init(bg=True)\n",
    "x.plot(s)"
   ]
  },
  {
   "cell_type": "code",
   "execution_count": null,
   "metadata": {},
   "outputs": [],
   "source": []
  }
 ],
 "metadata": {
  "graphics_method_selected": [
   "isoline",
   "a_isoline"
  ],
  "kernelspec": {
   "display_name": "Python 3",
   "language": "python",
   "name": "python3"
  },
  "language_info": {
   "codemirror_mode": {
    "name": "ipython",
    "version": 3
   },
   "file_extension": ".py",
   "mimetype": "text/x-python",
   "name": "python",
   "nbconvert_exporter": "python",
   "pygments_lexer": "ipython3",
   "version": "3.7.3"
  },
  "vcdat_plot_options": [
   false,
   0
  ],
  "vcdat_version": "2.1"
 },
 "nbformat": 4,
 "nbformat_minor": 4
}
