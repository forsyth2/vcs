{
 "cells": [
  {
   "cell_type": "code",
   "execution_count": null,
   "metadata": {},
   "outputs": [],
   "source": [
    "import vcs\n",
    "import cdms2\n",
    "vcs.download_sample_data_files()\n",
    "f=cdms2.open(vcs.sample_data+\"/clt.nc\")\n",
    "s=f(\"clt\")\n",
    "x=vcs.init(bg=True)\n",
    "x.plot(s)"
   ]
  },
  {
   "cell_type": "code",
   "execution_count": null,
   "metadata": {},
   "outputs": [],
   "source": []
  }
 ],
 "metadata": {
  "graphics_method_selected": [
   "isoline",
   "a_isoline"
  ],
  "kernelspec": {
   "display_name": "Python 3",
   "language": "python",
   "name": "python3"
  },
  "language_info": {
   "codemirror_mode": {
    "name": "ipython",
    "version": 3
   },
   "file_extension": ".py",
   "mimetype": "text/x-python",
   "name": "python",
   "nbconvert_exporter": "python",
   "pygments_lexer": "ipython3",
   "version": "3.7.3"
  },
  "vcdat_plot_options": [
   false,
   0
  ],
  "vcdat_version": "2.1"
 },
 "nbformat": 4,
 "nbformat_minor": 4
}
